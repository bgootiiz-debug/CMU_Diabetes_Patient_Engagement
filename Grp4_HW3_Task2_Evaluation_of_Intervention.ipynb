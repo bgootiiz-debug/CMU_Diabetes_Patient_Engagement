{
 "cells": [
  {
   "cell_type": "markdown",
   "metadata": {},
   "source": [
    "## Designing Smart and Healthy Systems, Heinz College, CMU\n",
    "### HW 3: Evaluation of the Intervention - Task 2\n",
    "\n",
    "#### Group 4: Batshur (Shuree) Gootiz, Sanjana Kotecha"
   ]
  },
  {
   "cell_type": "code",
   "execution_count": 1,
   "metadata": {},
   "outputs": [],
   "source": [
    "# Imports required to load the datasets from S3 Bucket\n",
    "import os\n",
    "import boto3\n",
    "from boto3 import client\n",
    "import botocore\n",
    "\n",
    "# Additional imports required for the homework tasks\n",
    "import pandas as pd\n",
    "import numpy as np\n",
    "import seaborn as sns\n",
    "import matplotlib.pyplot as plt\n",
    "from scipy import stats\n",
    "from sklearn import preprocessing\n",
    "from sklearn.decomposition import PCA\n",
    "from sklearn.cluster import KMeans"
   ]
  },
  {
   "cell_type": "code",
   "execution_count": 2,
   "metadata": {},
   "outputs": [],
   "source": [
    "# Function to read the data from csv file\n",
    "def read_data_from_csv(filename,bucketname):\n",
    "    dataframe = pd.read_csv('s3://{}/{}'.format(bucketname, filename), encoding = 'ISO-8859-1')\n",
    "    return dataframe.copy()\n",
    "\n",
    "# Function to read the data from excel sheet\n",
    "def read_data_from_excel(filename,sheetname,bucketname):\n",
    "    dataframe = pd.read_excel('s3://{}/{}'.format(bucketname, filename), sheetname, encoding = 'ISO-8859-1')\n",
    "    return dataframe.copy()\n",
    "\n",
    "# Function to display basic data info\n",
    "def display_basic_data(dataframe):\n",
    "    #Get the first 5 rows of the CSV\n",
    "    display(dataframe.head(5))\n",
    "    dataframe.info()"
   ]
  },
  {
   "cell_type": "code",
   "execution_count": 3,
   "metadata": {},
   "outputs": [
    {
     "name": "stdout",
     "output_type": "stream",
     "text": [
      "s3.ObjectSummary(bucket_name='group4bucketapr20', key='consolidated_numerical.csv')\n",
      "s3.ObjectSummary(bucket_name='group4bucketapr20', key='consolidated_numerical2.csv')\n",
      "s3.ObjectSummary(bucket_name='group4bucketapr20', key='high_engagement_cluster.csv')\n",
      "s3.ObjectSummary(bucket_name='group4bucketapr20', key='low_engagement_cluster.csv')\n",
      "s3.ObjectSummary(bucket_name='group4bucketapr20', key='medium_engagement_cluster.csv')\n",
      "s3.ObjectSummary(bucket_name='group4bucketapr20', key='outcome_var.csv')\n",
      "s3.ObjectSummary(bucket_name='group4bucketapr20', key='outcome_var2.csv')\n",
      "s3.ObjectSummary(bucket_name='group4bucketapr20', key='task2_dataset.csv')\n"
     ]
    }
   ],
   "source": [
    "bucketname = \"group4bucketapr20\"\n",
    "s3 = boto3.resource('s3')\n",
    "my_bucket = s3.Bucket(bucketname)\n",
    "for my_bucket_object in my_bucket.objects.all():\n",
    "    print(my_bucket_object)"
   ]
  },
  {
   "cell_type": "code",
   "execution_count": 4,
   "metadata": {},
   "outputs": [
    {
     "data": {
      "text/plain": [
       "(11861, 25)"
      ]
     },
     "execution_count": 4,
     "metadata": {},
     "output_type": "execute_result"
    }
   ],
   "source": [
    "task2_df = read_data_from_csv('task2_dataset.csv', bucketname)\n",
    "task2_df.shape\n",
    "#task2_df.columns\n"
   ]
  },
  {
   "cell_type": "code",
   "execution_count": 5,
   "metadata": {},
   "outputs": [
    {
     "data": {
      "text/plain": [
       "low       4676\n",
       "medium    4026\n",
       "high      3159\n",
       "Name: level, dtype: int64"
      ]
     },
     "execution_count": 5,
     "metadata": {},
     "output_type": "execute_result"
    }
   ],
   "source": [
    "#Slicing for picking the essential columns for the analysis: Colesterol had some outliers; so remove for now\n",
    "final_list=['IdPaciente', 'Edad', 'Sexo_x', 'IMC', 'Tabaco', 'Refrescos', 'ActividadFisica','Q1', 'Q2', 'Q3', 'Q4','Nutri_Q2', 'level', 'HBA1C']\n",
    "analysis_df=task2_df[final_list]\n",
    "analysis_df.shape\n",
    "#analysis_df.columns\n",
    "\n",
    "analysis_df.level.value_counts()"
   ]
  },
  {
   "cell_type": "code",
   "execution_count": 6,
   "metadata": {},
   "outputs": [
    {
     "data": {
      "text/html": [
       "<div>\n",
       "<style scoped>\n",
       "    .dataframe tbody tr th:only-of-type {\n",
       "        vertical-align: middle;\n",
       "    }\n",
       "\n",
       "    .dataframe tbody tr th {\n",
       "        vertical-align: top;\n",
       "    }\n",
       "\n",
       "    .dataframe thead th {\n",
       "        text-align: right;\n",
       "    }\n",
       "</style>\n",
       "<table border=\"1\" class=\"dataframe\">\n",
       "  <thead>\n",
       "    <tr style=\"text-align: right;\">\n",
       "      <th></th>\n",
       "      <th></th>\n",
       "      <th>IdPaciente</th>\n",
       "      <th>Edad</th>\n",
       "      <th>Sexo_x</th>\n",
       "      <th>IMC</th>\n",
       "      <th>Tabaco</th>\n",
       "      <th>Refrescos</th>\n",
       "      <th>ActividadFisica</th>\n",
       "      <th>Q1</th>\n",
       "      <th>Q2</th>\n",
       "      <th>Q3</th>\n",
       "      <th>Q4</th>\n",
       "      <th>HBA1C</th>\n",
       "    </tr>\n",
       "    <tr>\n",
       "      <th>level</th>\n",
       "      <th>Nutri_Q2</th>\n",
       "      <th></th>\n",
       "      <th></th>\n",
       "      <th></th>\n",
       "      <th></th>\n",
       "      <th></th>\n",
       "      <th></th>\n",
       "      <th></th>\n",
       "      <th></th>\n",
       "      <th></th>\n",
       "      <th></th>\n",
       "      <th></th>\n",
       "      <th></th>\n",
       "    </tr>\n",
       "  </thead>\n",
       "  <tbody>\n",
       "    <tr>\n",
       "      <th rowspan=\"5\" valign=\"top\">high</th>\n",
       "      <th>0</th>\n",
       "      <td>187</td>\n",
       "      <td>187</td>\n",
       "      <td>187</td>\n",
       "      <td>187</td>\n",
       "      <td>187</td>\n",
       "      <td>187</td>\n",
       "      <td>187</td>\n",
       "      <td>187</td>\n",
       "      <td>187</td>\n",
       "      <td>187</td>\n",
       "      <td>187</td>\n",
       "      <td>187</td>\n",
       "    </tr>\n",
       "    <tr>\n",
       "      <th>1</th>\n",
       "      <td>649</td>\n",
       "      <td>649</td>\n",
       "      <td>645</td>\n",
       "      <td>649</td>\n",
       "      <td>649</td>\n",
       "      <td>649</td>\n",
       "      <td>649</td>\n",
       "      <td>649</td>\n",
       "      <td>649</td>\n",
       "      <td>649</td>\n",
       "      <td>649</td>\n",
       "      <td>649</td>\n",
       "    </tr>\n",
       "    <tr>\n",
       "      <th>2</th>\n",
       "      <td>1067</td>\n",
       "      <td>1067</td>\n",
       "      <td>1061</td>\n",
       "      <td>1067</td>\n",
       "      <td>1067</td>\n",
       "      <td>1067</td>\n",
       "      <td>1067</td>\n",
       "      <td>1067</td>\n",
       "      <td>1067</td>\n",
       "      <td>1067</td>\n",
       "      <td>1067</td>\n",
       "      <td>1067</td>\n",
       "    </tr>\n",
       "    <tr>\n",
       "      <th>3</th>\n",
       "      <td>1250</td>\n",
       "      <td>1250</td>\n",
       "      <td>1245</td>\n",
       "      <td>1250</td>\n",
       "      <td>1250</td>\n",
       "      <td>1250</td>\n",
       "      <td>1250</td>\n",
       "      <td>1250</td>\n",
       "      <td>1250</td>\n",
       "      <td>1250</td>\n",
       "      <td>1250</td>\n",
       "      <td>1250</td>\n",
       "    </tr>\n",
       "    <tr>\n",
       "      <th>4</th>\n",
       "      <td>6</td>\n",
       "      <td>6</td>\n",
       "      <td>6</td>\n",
       "      <td>6</td>\n",
       "      <td>6</td>\n",
       "      <td>6</td>\n",
       "      <td>6</td>\n",
       "      <td>6</td>\n",
       "      <td>6</td>\n",
       "      <td>6</td>\n",
       "      <td>6</td>\n",
       "      <td>6</td>\n",
       "    </tr>\n",
       "    <tr>\n",
       "      <th rowspan=\"5\" valign=\"top\">medium</th>\n",
       "      <th>0</th>\n",
       "      <td>1478</td>\n",
       "      <td>1478</td>\n",
       "      <td>1468</td>\n",
       "      <td>1478</td>\n",
       "      <td>1478</td>\n",
       "      <td>1478</td>\n",
       "      <td>1478</td>\n",
       "      <td>1478</td>\n",
       "      <td>1478</td>\n",
       "      <td>1478</td>\n",
       "      <td>1478</td>\n",
       "      <td>1478</td>\n",
       "    </tr>\n",
       "    <tr>\n",
       "      <th>1</th>\n",
       "      <td>1584</td>\n",
       "      <td>1584</td>\n",
       "      <td>1573</td>\n",
       "      <td>1584</td>\n",
       "      <td>1584</td>\n",
       "      <td>1584</td>\n",
       "      <td>1584</td>\n",
       "      <td>1584</td>\n",
       "      <td>1584</td>\n",
       "      <td>1584</td>\n",
       "      <td>1584</td>\n",
       "      <td>1584</td>\n",
       "    </tr>\n",
       "    <tr>\n",
       "      <th>2</th>\n",
       "      <td>731</td>\n",
       "      <td>731</td>\n",
       "      <td>730</td>\n",
       "      <td>731</td>\n",
       "      <td>731</td>\n",
       "      <td>731</td>\n",
       "      <td>731</td>\n",
       "      <td>731</td>\n",
       "      <td>731</td>\n",
       "      <td>731</td>\n",
       "      <td>731</td>\n",
       "      <td>731</td>\n",
       "    </tr>\n",
       "    <tr>\n",
       "      <th>3</th>\n",
       "      <td>232</td>\n",
       "      <td>232</td>\n",
       "      <td>230</td>\n",
       "      <td>232</td>\n",
       "      <td>232</td>\n",
       "      <td>232</td>\n",
       "      <td>232</td>\n",
       "      <td>232</td>\n",
       "      <td>232</td>\n",
       "      <td>232</td>\n",
       "      <td>232</td>\n",
       "      <td>232</td>\n",
       "    </tr>\n",
       "    <tr>\n",
       "      <th>4</th>\n",
       "      <td>1</td>\n",
       "      <td>1</td>\n",
       "      <td>1</td>\n",
       "      <td>1</td>\n",
       "      <td>1</td>\n",
       "      <td>1</td>\n",
       "      <td>1</td>\n",
       "      <td>1</td>\n",
       "      <td>1</td>\n",
       "      <td>1</td>\n",
       "      <td>1</td>\n",
       "      <td>1</td>\n",
       "    </tr>\n",
       "  </tbody>\n",
       "</table>\n",
       "</div>"
      ],
      "text/plain": [
       "                 IdPaciente  Edad  Sexo_x   IMC  Tabaco  Refrescos  \\\n",
       "level  Nutri_Q2                                                      \n",
       "high   0                187   187     187   187     187        187   \n",
       "       1                649   649     645   649     649        649   \n",
       "       2               1067  1067    1061  1067    1067       1067   \n",
       "       3               1250  1250    1245  1250    1250       1250   \n",
       "       4                  6     6       6     6       6          6   \n",
       "medium 0               1478  1478    1468  1478    1478       1478   \n",
       "       1               1584  1584    1573  1584    1584       1584   \n",
       "       2                731   731     730   731     731        731   \n",
       "       3                232   232     230   232     232        232   \n",
       "       4                  1     1       1     1       1          1   \n",
       "\n",
       "                 ActividadFisica    Q1    Q2    Q3    Q4  HBA1C  \n",
       "level  Nutri_Q2                                                  \n",
       "high   0                     187   187   187   187   187    187  \n",
       "       1                     649   649   649   649   649    649  \n",
       "       2                    1067  1067  1067  1067  1067   1067  \n",
       "       3                    1250  1250  1250  1250  1250   1250  \n",
       "       4                       6     6     6     6     6      6  \n",
       "medium 0                    1478  1478  1478  1478  1478   1478  \n",
       "       1                    1584  1584  1584  1584  1584   1584  \n",
       "       2                     731   731   731   731   731    731  \n",
       "       3                     232   232   232   232   232    232  \n",
       "       4                       1     1     1     1     1      1  "
      ]
     },
     "execution_count": 6,
     "metadata": {},
     "output_type": "execute_result"
    }
   ],
   "source": [
    "#First, slice the moderate and high engaged patients out of df: Our focus of analysis\n",
    "analysis_df= analysis_df.loc[(analysis_df['level'] =='high') | (analysis_df['level']=='medium')]\n",
    "analysis_df.shape\n",
    "\n",
    "analysis_df.groupby(['level', 'Nutri_Q2']).count()"
   ]
  },
  {
   "cell_type": "markdown",
   "metadata": {},
   "source": [
    "There are several ways to select the treatment variable; based on the graph (nutritional visit by Q), we decided to take the differene beteen number =>2 and less than 2. If we take no visit or 1 visit, there is not enough data for high engaged patients cluster (only 187 here). "
   ]
  },
  {
   "cell_type": "code",
   "execution_count": 7,
   "metadata": {},
   "outputs": [],
   "source": [
    "#Create treated variable: 1 if had 2 or more engagement in q2, 0 if less than 2 engagements in q2\n",
    "analysis_df['treated'] = (analysis_df.Nutri_Q2.isin(range(2, 4))).astype(int)\n"
   ]
  },
  {
   "cell_type": "markdown",
   "metadata": {},
   "source": [
    "There are 842 patients in high that have less than 2 visits, 2317 patients who have 2 or more visits. \n",
    "For medium, 3063 patients had less than 2 visits, and 963 patients had equal to 2 or more visits. "
   ]
  },
  {
   "cell_type": "code",
   "execution_count": 8,
   "metadata": {},
   "outputs": [
    {
     "data": {
      "text/html": [
       "<div>\n",
       "<style scoped>\n",
       "    .dataframe tbody tr th:only-of-type {\n",
       "        vertical-align: middle;\n",
       "    }\n",
       "\n",
       "    .dataframe tbody tr th {\n",
       "        vertical-align: top;\n",
       "    }\n",
       "\n",
       "    .dataframe thead th {\n",
       "        text-align: right;\n",
       "    }\n",
       "</style>\n",
       "<table border=\"1\" class=\"dataframe\">\n",
       "  <thead>\n",
       "    <tr style=\"text-align: right;\">\n",
       "      <th></th>\n",
       "      <th></th>\n",
       "      <th>IdPaciente</th>\n",
       "      <th>Edad</th>\n",
       "      <th>gender</th>\n",
       "      <th>IMC</th>\n",
       "      <th>Tabaco</th>\n",
       "      <th>Refrescos</th>\n",
       "      <th>ActividadFisica</th>\n",
       "      <th>Q1</th>\n",
       "      <th>Q2</th>\n",
       "      <th>Q3</th>\n",
       "      <th>target</th>\n",
       "      <th>Nutri_Q2</th>\n",
       "      <th>HBA1C</th>\n",
       "    </tr>\n",
       "    <tr>\n",
       "      <th>level</th>\n",
       "      <th>treated</th>\n",
       "      <th></th>\n",
       "      <th></th>\n",
       "      <th></th>\n",
       "      <th></th>\n",
       "      <th></th>\n",
       "      <th></th>\n",
       "      <th></th>\n",
       "      <th></th>\n",
       "      <th></th>\n",
       "      <th></th>\n",
       "      <th></th>\n",
       "      <th></th>\n",
       "      <th></th>\n",
       "    </tr>\n",
       "  </thead>\n",
       "  <tbody>\n",
       "    <tr>\n",
       "      <th rowspan=\"2\" valign=\"top\">high</th>\n",
       "      <th>0</th>\n",
       "      <td>842</td>\n",
       "      <td>842</td>\n",
       "      <td>838</td>\n",
       "      <td>842</td>\n",
       "      <td>842</td>\n",
       "      <td>842</td>\n",
       "      <td>842</td>\n",
       "      <td>842</td>\n",
       "      <td>842</td>\n",
       "      <td>842</td>\n",
       "      <td>842</td>\n",
       "      <td>842</td>\n",
       "      <td>842</td>\n",
       "    </tr>\n",
       "    <tr>\n",
       "      <th>1</th>\n",
       "      <td>2317</td>\n",
       "      <td>2317</td>\n",
       "      <td>2306</td>\n",
       "      <td>2317</td>\n",
       "      <td>2317</td>\n",
       "      <td>2317</td>\n",
       "      <td>2317</td>\n",
       "      <td>2317</td>\n",
       "      <td>2317</td>\n",
       "      <td>2317</td>\n",
       "      <td>2317</td>\n",
       "      <td>2317</td>\n",
       "      <td>2317</td>\n",
       "    </tr>\n",
       "    <tr>\n",
       "      <th rowspan=\"2\" valign=\"top\">medium</th>\n",
       "      <th>0</th>\n",
       "      <td>3063</td>\n",
       "      <td>3063</td>\n",
       "      <td>3042</td>\n",
       "      <td>3063</td>\n",
       "      <td>3063</td>\n",
       "      <td>3063</td>\n",
       "      <td>3063</td>\n",
       "      <td>3063</td>\n",
       "      <td>3063</td>\n",
       "      <td>3063</td>\n",
       "      <td>3063</td>\n",
       "      <td>3063</td>\n",
       "      <td>3063</td>\n",
       "    </tr>\n",
       "    <tr>\n",
       "      <th>1</th>\n",
       "      <td>963</td>\n",
       "      <td>963</td>\n",
       "      <td>960</td>\n",
       "      <td>963</td>\n",
       "      <td>963</td>\n",
       "      <td>963</td>\n",
       "      <td>963</td>\n",
       "      <td>963</td>\n",
       "      <td>963</td>\n",
       "      <td>963</td>\n",
       "      <td>963</td>\n",
       "      <td>963</td>\n",
       "      <td>963</td>\n",
       "    </tr>\n",
       "  </tbody>\n",
       "</table>\n",
       "</div>"
      ],
      "text/plain": [
       "                IdPaciente  Edad  gender   IMC  Tabaco  Refrescos  \\\n",
       "level  treated                                                      \n",
       "high   0               842   842     838   842     842        842   \n",
       "       1              2317  2317    2306  2317    2317       2317   \n",
       "medium 0              3063  3063    3042  3063    3063       3063   \n",
       "       1               963   963     960   963     963        963   \n",
       "\n",
       "                ActividadFisica    Q1    Q2    Q3  target  Nutri_Q2  HBA1C  \n",
       "level  treated                                                              \n",
       "high   0                    842   842   842   842     842       842    842  \n",
       "       1                   2317  2317  2317  2317    2317      2317   2317  \n",
       "medium 0                   3063  3063  3063  3063    3063      3063   3063  \n",
       "       1                    963   963   963   963     963       963    963  "
      ]
     },
     "execution_count": 8,
     "metadata": {},
     "output_type": "execute_result"
    }
   ],
   "source": [
    "#Our target variable =Y var is Q4 engagement level\n",
    "analysis_df.rename(columns ={'Q4' :'target', 'Sexo_x': 'gender'}, inplace=True)\n",
    "analysis_df.groupby(['level', 'treated']).count()"
   ]
  },
  {
   "cell_type": "code",
   "execution_count": 9,
   "metadata": {},
   "outputs": [],
   "source": [
    "#Add another target variable that is binary one for logit model: \n",
    "#analysis_df['target'] = (analysis_df.level.is('high')).astype(int)\n",
    "\n",
    "analysis_df['target1']= np.where((analysis_df['level']=='high'),1,0)\n"
   ]
  },
  {
   "cell_type": "code",
   "execution_count": 10,
   "metadata": {},
   "outputs": [
    {
     "data": {
      "text/plain": [
       "0    4026\n",
       "1    3159\n",
       "Name: target1, dtype: int64"
      ]
     },
     "execution_count": 10,
     "metadata": {},
     "output_type": "execute_result"
    }
   ],
   "source": [
    "analysis_df.target1.value_counts()"
   ]
  },
  {
   "cell_type": "code",
   "execution_count": 11,
   "metadata": {},
   "outputs": [],
   "source": [
    "#Drop two more: no longer needed: take gender out for now, because it is having problem in the model fitting. \n",
    "final_list=['IdPaciente', 'Edad', 'gender', 'IMC', 'Tabaco', 'Refrescos', 'ActividadFisica','target', 'target1','HBA1C', 'treated']\n",
    "clean_df=analysis_df[final_list]"
   ]
  },
  {
   "cell_type": "code",
   "execution_count": 12,
   "metadata": {},
   "outputs": [
    {
     "name": "stdout",
     "output_type": "stream",
     "text": [
      "M    uint8\n",
      "dtype: object\n"
     ]
    }
   ],
   "source": [
    "#make gender a dummy variable\n",
    "male = pd.get_dummies(clean_df['gender'],drop_first=True)\n",
    "print(male.dtypes)"
   ]
  },
  {
   "cell_type": "code",
   "execution_count": 13,
   "metadata": {},
   "outputs": [
    {
     "data": {
      "text/html": [
       "<div>\n",
       "<style scoped>\n",
       "    .dataframe tbody tr th:only-of-type {\n",
       "        vertical-align: middle;\n",
       "    }\n",
       "\n",
       "    .dataframe tbody tr th {\n",
       "        vertical-align: top;\n",
       "    }\n",
       "\n",
       "    .dataframe thead th {\n",
       "        text-align: right;\n",
       "    }\n",
       "</style>\n",
       "<table border=\"1\" class=\"dataframe\">\n",
       "  <thead>\n",
       "    <tr style=\"text-align: right;\">\n",
       "      <th></th>\n",
       "      <th>IdPaciente</th>\n",
       "      <th>Edad</th>\n",
       "      <th>gender</th>\n",
       "      <th>IMC</th>\n",
       "      <th>Tabaco</th>\n",
       "      <th>Refrescos</th>\n",
       "      <th>ActividadFisica</th>\n",
       "      <th>target</th>\n",
       "      <th>target1</th>\n",
       "      <th>HBA1C</th>\n",
       "      <th>treated</th>\n",
       "      <th>M</th>\n",
       "    </tr>\n",
       "  </thead>\n",
       "  <tbody>\n",
       "    <tr>\n",
       "      <th>3</th>\n",
       "      <td>6</td>\n",
       "      <td>57</td>\n",
       "      <td>H</td>\n",
       "      <td>26.472</td>\n",
       "      <td>0</td>\n",
       "      <td>1</td>\n",
       "      <td>0</td>\n",
       "      <td>10.0</td>\n",
       "      <td>1</td>\n",
       "      <td>6.5</td>\n",
       "      <td>0</td>\n",
       "      <td>0</td>\n",
       "    </tr>\n",
       "    <tr>\n",
       "      <th>8</th>\n",
       "      <td>14</td>\n",
       "      <td>46</td>\n",
       "      <td>M</td>\n",
       "      <td>36.766</td>\n",
       "      <td>0</td>\n",
       "      <td>1</td>\n",
       "      <td>0</td>\n",
       "      <td>2.0</td>\n",
       "      <td>0</td>\n",
       "      <td>12.0</td>\n",
       "      <td>0</td>\n",
       "      <td>1</td>\n",
       "    </tr>\n",
       "    <tr>\n",
       "      <th>9</th>\n",
       "      <td>15</td>\n",
       "      <td>56</td>\n",
       "      <td>M</td>\n",
       "      <td>30.823</td>\n",
       "      <td>0</td>\n",
       "      <td>1</td>\n",
       "      <td>1</td>\n",
       "      <td>10.0</td>\n",
       "      <td>1</td>\n",
       "      <td>12.0</td>\n",
       "      <td>0</td>\n",
       "      <td>1</td>\n",
       "    </tr>\n",
       "    <tr>\n",
       "      <th>12</th>\n",
       "      <td>23</td>\n",
       "      <td>62</td>\n",
       "      <td>M</td>\n",
       "      <td>26.400</td>\n",
       "      <td>0</td>\n",
       "      <td>1</td>\n",
       "      <td>0</td>\n",
       "      <td>10.0</td>\n",
       "      <td>1</td>\n",
       "      <td>11.0</td>\n",
       "      <td>0</td>\n",
       "      <td>1</td>\n",
       "    </tr>\n",
       "    <tr>\n",
       "      <th>14</th>\n",
       "      <td>28</td>\n",
       "      <td>36</td>\n",
       "      <td>M</td>\n",
       "      <td>28.464</td>\n",
       "      <td>0</td>\n",
       "      <td>1</td>\n",
       "      <td>1</td>\n",
       "      <td>4.5</td>\n",
       "      <td>0</td>\n",
       "      <td>11.0</td>\n",
       "      <td>0</td>\n",
       "      <td>1</td>\n",
       "    </tr>\n",
       "  </tbody>\n",
       "</table>\n",
       "</div>"
      ],
      "text/plain": [
       "    IdPaciente  Edad gender     IMC  Tabaco  Refrescos  ActividadFisica  \\\n",
       "3            6    57      H  26.472       0          1                0   \n",
       "8           14    46      M  36.766       0          1                0   \n",
       "9           15    56      M  30.823       0          1                1   \n",
       "12          23    62      M  26.400       0          1                0   \n",
       "14          28    36      M  28.464       0          1                1   \n",
       "\n",
       "    target  target1  HBA1C  treated  M  \n",
       "3     10.0        1    6.5        0  0  \n",
       "8      2.0        0   12.0        0  1  \n",
       "9     10.0        1   12.0        0  1  \n",
       "12    10.0        1   11.0        0  1  \n",
       "14     4.5        0   11.0        0  1  "
      ]
     },
     "execution_count": 13,
     "metadata": {},
     "output_type": "execute_result"
    }
   ],
   "source": [
    "clean_df = pd.concat([clean_df, male],axis=1)\n",
    "clean_df.head()"
   ]
  },
  {
   "cell_type": "code",
   "execution_count": 14,
   "metadata": {},
   "outputs": [
    {
     "data": {
      "text/plain": [
       "1    5638\n",
       "0    1547\n",
       "Name: Refrescos, dtype: int64"
      ]
     },
     "execution_count": 14,
     "metadata": {},
     "output_type": "execute_result"
    }
   ],
   "source": [
    "clean_df.Refrescos.value_counts()"
   ]
  },
  {
   "cell_type": "code",
   "execution_count": 15,
   "metadata": {},
   "outputs": [],
   "source": [
    "#Clean up some variables and re-code the values\n",
    "clean_df['Tabaco'] = clean_df['Tabaco'].map({0: 0, 1: 0, 2:1})\n"
   ]
  },
  {
   "cell_type": "code",
   "execution_count": 16,
   "metadata": {},
   "outputs": [
    {
     "data": {
      "text/plain": [
       "0    6209\n",
       "1     976\n",
       "Name: Tabaco, dtype: int64"
      ]
     },
     "execution_count": 16,
     "metadata": {},
     "output_type": "execute_result"
    }
   ],
   "source": [
    "clean_df['Tabaco'].value_counts()"
   ]
  },
  {
   "cell_type": "code",
   "execution_count": 17,
   "metadata": {},
   "outputs": [],
   "source": [
    "#Drop gender, since we have a dummy variable\n",
    "clean_df.drop(['gender'], axis=1, inplace=True)\n"
   ]
  },
  {
   "cell_type": "code",
   "execution_count": 18,
   "metadata": {},
   "outputs": [
    {
     "data": {
      "text/plain": [
       "(7185, 11)"
      ]
     },
     "execution_count": 18,
     "metadata": {},
     "output_type": "execute_result"
    },
    {
     "data": {
      "image/png": "[encoded data removed]",
      "text/plain": [
       "<Figure size 432x288 with 1 Axes>"
      ]
     },
     "metadata": {},
     "output_type": "display_data"
    }
   ],
   "source": [
    "#Both HBA1AC and Colestrol are highly skewed: \n",
    "sns.boxplot(clean_df['HBA1C'])\n",
    "sns.boxplot(clean_df['IMC'])\n",
    "clean_df.shape"
   ]
  },
  {
   "cell_type": "code",
   "execution_count": 19,
   "metadata": {},
   "outputs": [
    {
     "data": {
      "text/plain": [
       "IdPaciente         137\n",
       "Edad               137\n",
       "IMC                137\n",
       "Tabaco             137\n",
       "Refrescos          137\n",
       "ActividadFisica    137\n",
       "target             137\n",
       "target1            137\n",
       "HBA1C              137\n",
       "treated            137\n",
       "M                  137\n",
       "dtype: int64"
      ]
     },
     "execution_count": 19,
     "metadata": {},
     "output_type": "execute_result"
    }
   ],
   "source": [
    "clean_df.loc[clean_df['HBA1C'] >15].count()  #Too high values of 72 rows outliers\n",
    "clean_df.loc[clean_df['HBA1C'] < 4].count()  #Too low values 0, 1, 2, 3 are outliers"
   ]
  },
  {
   "cell_type": "code",
   "execution_count": 20,
   "metadata": {},
   "outputs": [
    {
     "data": {
      "text/plain": [
       "(6970, 11)"
      ]
     },
     "execution_count": 20,
     "metadata": {},
     "output_type": "execute_result"
    },
    {
     "data": {
      "image/png": "[encoded data removed]",
      "text/plain": [
       "<Figure size 432x288 with 1 Axes>"
      ]
     },
     "metadata": {},
     "output_type": "display_data"
    }
   ],
   "source": [
    "#removing outliers\n",
    "clean_df=clean_df.loc[clean_df['HBA1C'] <15]  #keep these\n",
    "clean_df=clean_df.loc[clean_df['HBA1C'] > 4]  #keep these\n",
    "sns.boxplot(clean_df['HBA1C'])\n",
    "clean_df.shape"
   ]
  },
  {
   "cell_type": "code",
   "execution_count": 21,
   "metadata": {},
   "outputs": [
    {
     "data": {
      "text/html": [
       "<div>\n",
       "<style scoped>\n",
       "    .dataframe tbody tr th:only-of-type {\n",
       "        vertical-align: middle;\n",
       "    }\n",
       "\n",
       "    .dataframe tbody tr th {\n",
       "        vertical-align: top;\n",
       "    }\n",
       "\n",
       "    .dataframe thead th {\n",
       "        text-align: right;\n",
       "    }\n",
       "</style>\n",
       "<table border=\"1\" class=\"dataframe\">\n",
       "  <thead>\n",
       "    <tr style=\"text-align: right;\">\n",
       "      <th></th>\n",
       "      <th>IdPaciente</th>\n",
       "      <th>Edad</th>\n",
       "      <th>IMC</th>\n",
       "      <th>Tabaco</th>\n",
       "      <th>Refrescos</th>\n",
       "      <th>ActividadFisica</th>\n",
       "      <th>target</th>\n",
       "      <th>target1</th>\n",
       "      <th>HBA1C</th>\n",
       "      <th>treated</th>\n",
       "      <th>M</th>\n",
       "    </tr>\n",
       "  </thead>\n",
       "  <tbody>\n",
       "    <tr>\n",
       "      <th>count</th>\n",
       "      <td>6970.000000</td>\n",
       "      <td>6970.000000</td>\n",
       "      <td>6970.000000</td>\n",
       "      <td>6970.000000</td>\n",
       "      <td>6970.000000</td>\n",
       "      <td>6970.000000</td>\n",
       "      <td>6970.000000</td>\n",
       "      <td>6970.000000</td>\n",
       "      <td>6970.000000</td>\n",
       "      <td>6970.000000</td>\n",
       "      <td>6970.000000</td>\n",
       "    </tr>\n",
       "    <tr>\n",
       "      <th>mean</th>\n",
       "      <td>7776.543472</td>\n",
       "      <td>53.441463</td>\n",
       "      <td>30.200477</td>\n",
       "      <td>0.137446</td>\n",
       "      <td>0.785653</td>\n",
       "      <td>0.277762</td>\n",
       "      <td>4.959924</td>\n",
       "      <td>0.438737</td>\n",
       "      <td>9.274406</td>\n",
       "      <td>0.456958</td>\n",
       "      <td>0.574892</td>\n",
       "    </tr>\n",
       "    <tr>\n",
       "      <th>std</th>\n",
       "      <td>3548.090582</td>\n",
       "      <td>12.041390</td>\n",
       "      <td>5.752874</td>\n",
       "      <td>0.344342</td>\n",
       "      <td>0.410398</td>\n",
       "      <td>0.447927</td>\n",
       "      <td>3.621622</td>\n",
       "      <td>0.496268</td>\n",
       "      <td>2.402878</td>\n",
       "      <td>0.498180</td>\n",
       "      <td>0.494395</td>\n",
       "    </tr>\n",
       "    <tr>\n",
       "      <th>min</th>\n",
       "      <td>6.000000</td>\n",
       "      <td>10.000000</td>\n",
       "      <td>0.201000</td>\n",
       "      <td>0.000000</td>\n",
       "      <td>0.000000</td>\n",
       "      <td>0.000000</td>\n",
       "      <td>2.000000</td>\n",
       "      <td>0.000000</td>\n",
       "      <td>4.400000</td>\n",
       "      <td>0.000000</td>\n",
       "      <td>0.000000</td>\n",
       "    </tr>\n",
       "    <tr>\n",
       "      <th>25%</th>\n",
       "      <td>5144.250000</td>\n",
       "      <td>46.000000</td>\n",
       "      <td>26.354250</td>\n",
       "      <td>0.000000</td>\n",
       "      <td>1.000000</td>\n",
       "      <td>0.000000</td>\n",
       "      <td>2.000000</td>\n",
       "      <td>0.000000</td>\n",
       "      <td>7.162500</td>\n",
       "      <td>0.000000</td>\n",
       "      <td>0.000000</td>\n",
       "    </tr>\n",
       "    <tr>\n",
       "      <th>50%</th>\n",
       "      <td>7946.500000</td>\n",
       "      <td>54.000000</td>\n",
       "      <td>29.344500</td>\n",
       "      <td>0.000000</td>\n",
       "      <td>1.000000</td>\n",
       "      <td>0.000000</td>\n",
       "      <td>2.000000</td>\n",
       "      <td>0.000000</td>\n",
       "      <td>9.240000</td>\n",
       "      <td>0.000000</td>\n",
       "      <td>1.000000</td>\n",
       "    </tr>\n",
       "    <tr>\n",
       "      <th>75%</th>\n",
       "      <td>10703.250000</td>\n",
       "      <td>62.000000</td>\n",
       "      <td>33.298000</td>\n",
       "      <td>0.000000</td>\n",
       "      <td>1.000000</td>\n",
       "      <td>1.000000</td>\n",
       "      <td>9.330000</td>\n",
       "      <td>1.000000</td>\n",
       "      <td>11.200000</td>\n",
       "      <td>1.000000</td>\n",
       "      <td>1.000000</td>\n",
       "    </tr>\n",
       "    <tr>\n",
       "      <th>max</th>\n",
       "      <td>13973.000000</td>\n",
       "      <td>88.000000</td>\n",
       "      <td>65.029000</td>\n",
       "      <td>1.000000</td>\n",
       "      <td>1.000000</td>\n",
       "      <td>1.000000</td>\n",
       "      <td>12.000000</td>\n",
       "      <td>1.000000</td>\n",
       "      <td>14.980000</td>\n",
       "      <td>1.000000</td>\n",
       "      <td>1.000000</td>\n",
       "    </tr>\n",
       "  </tbody>\n",
       "</table>\n",
       "</div>"
      ],
      "text/plain": [
       "         IdPaciente         Edad          IMC       Tabaco    Refrescos  \\\n",
       "count   6970.000000  6970.000000  6970.000000  6970.000000  6970.000000   \n",
       "mean    7776.543472    53.441463    30.200477     0.137446     0.785653   \n",
       "std     3548.090582    12.041390     5.752874     0.344342     0.410398   \n",
       "min        6.000000    10.000000     0.201000     0.000000     0.000000   \n",
       "25%     5144.250000    46.000000    26.354250     0.000000     1.000000   \n",
       "50%     7946.500000    54.000000    29.344500     0.000000     1.000000   \n",
       "75%    10703.250000    62.000000    33.298000     0.000000     1.000000   \n",
       "max    13973.000000    88.000000    65.029000     1.000000     1.000000   \n",
       "\n",
       "       ActividadFisica       target      target1        HBA1C      treated  \\\n",
       "count      6970.000000  6970.000000  6970.000000  6970.000000  6970.000000   \n",
       "mean          0.277762     4.959924     0.438737     9.274406     0.456958   \n",
       "std           0.447927     3.621622     0.496268     2.402878     0.498180   \n",
       "min           0.000000     2.000000     0.000000     4.400000     0.000000   \n",
       "25%           0.000000     2.000000     0.000000     7.162500     0.000000   \n",
       "50%           0.000000     2.000000     0.000000     9.240000     0.000000   \n",
       "75%           1.000000     9.330000     1.000000    11.200000     1.000000   \n",
       "max           1.000000    12.000000     1.000000    14.980000     1.000000   \n",
       "\n",
       "                 M  \n",
       "count  6970.000000  \n",
       "mean      0.574892  \n",
       "std       0.494395  \n",
       "min       0.000000  \n",
       "25%       0.000000  \n",
       "50%       1.000000  \n",
       "75%       1.000000  \n",
       "max       1.000000  "
      ]
     },
     "execution_count": 21,
     "metadata": {},
     "output_type": "execute_result"
    }
   ],
   "source": [
    "clean_df.describe()"
   ]
  },
  {
   "cell_type": "code",
   "execution_count": 22,
   "metadata": {},
   "outputs": [
    {
     "data": {
      "text/plain": [
       "<matplotlib.axes._subplots.AxesSubplot at 0x7f0f3545e780>"
      ]
     },
     "execution_count": 22,
     "metadata": {},
     "output_type": "execute_result"
    },
    {
     "data": {
      "image/png": "[encoded data removed]",
      "text/plain": [
       "<Figure size 432x288 with 1 Axes>"
      ]
     },
     "metadata": {},
     "output_type": "display_data"
    }
   ],
   "source": [
    "#IMC\n",
    "sns.boxplot(clean_df['IMC'])  #Outliers:? <15 and >45"
   ]
  },
  {
   "cell_type": "code",
   "execution_count": 23,
   "metadata": {},
   "outputs": [
    {
     "data": {
      "text/plain": [
       "[IdPaciente         134\n",
       " Edad               134\n",
       " IMC                134\n",
       " Tabaco             134\n",
       " Refrescos          134\n",
       " ActividadFisica    134\n",
       " target             134\n",
       " target1            134\n",
       " HBA1C              134\n",
       " treated            134\n",
       " M                  134\n",
       " dtype: int64, IdPaciente         13\n",
       " Edad               13\n",
       " IMC                13\n",
       " Tabaco             13\n",
       " Refrescos          13\n",
       " ActividadFisica    13\n",
       " target             13\n",
       " target1            13\n",
       " HBA1C              13\n",
       " treated            13\n",
       " M                  13\n",
       " dtype: int64]"
      ]
     },
     "execution_count": 23,
     "metadata": {},
     "output_type": "execute_result"
    }
   ],
   "source": [
    "list_count=[]\n",
    "list_count.append(clean_df.loc[clean_df['IMC'] > 45].count())  #Too high values of 72 rows outliers\n",
    "list_count.append(clean_df.loc[clean_df['IMC'] < 17].count())\n",
    "list_count"
   ]
  },
  {
   "cell_type": "code",
   "execution_count": 24,
   "metadata": {},
   "outputs": [
    {
     "data": {
      "text/plain": [
       "0    3840\n",
       "1    2983\n",
       "Name: target1, dtype: int64"
      ]
     },
     "execution_count": 24,
     "metadata": {},
     "output_type": "execute_result"
    },
    {
     "data": {
      "image/png": "[encoded data removed]",
      "text/plain": [
       "<Figure size 432x288 with 1 Axes>"
      ]
     },
     "metadata": {},
     "output_type": "display_data"
    }
   ],
   "source": [
    "clean_df=clean_df.loc[clean_df['IMC'] <45]  #keep these\n",
    "clean_df=clean_df.loc[clean_df['IMC'] > 17]  #keep these\n",
    "sns.boxplot(clean_df['IMC'])\n",
    "clean_df.shape\n",
    "clean_df.target1.value_counts()"
   ]
  },
  {
   "cell_type": "code",
   "execution_count": 25,
   "metadata": {},
   "outputs": [
    {
     "data": {
      "text/plain": [
       "IdPaciente           int64\n",
       "Edad                 int64\n",
       "IMC                float64\n",
       "Tabaco               int64\n",
       "Refrescos            int64\n",
       "ActividadFisica      int64\n",
       "target             float64\n",
       "target1              int64\n",
       "HBA1C              float64\n",
       "treated              int64\n",
       "M                    uint8\n",
       "dtype: object"
      ]
     },
     "execution_count": 25,
     "metadata": {},
     "output_type": "execute_result"
    }
   ],
   "source": [
    "clean_df.dtypes"
   ]
  },
  {
   "cell_type": "code",
   "execution_count": 26,
   "metadata": {},
   "outputs": [
    {
     "data": {
      "text/plain": [
       "3     10\n",
       "8      2\n",
       "9     10\n",
       "12    10\n",
       "14     4\n",
       "Name: target, dtype: int64"
      ]
     },
     "execution_count": 26,
     "metadata": {},
     "output_type": "execute_result"
    }
   ],
   "source": [
    "#Convert multictegorical variables into such types: and target =y\n",
    "y = clean_df.target # define the target variable (dependent variable) as y\n",
    "y= y.astype(int)\n",
    "y.dtype\n",
    "clean_df.target.astype(int).head()"
   ]
  },
  {
   "cell_type": "code",
   "execution_count": 27,
   "metadata": {},
   "outputs": [
    {
     "data": {
      "text/plain": [
       "<matplotlib.axes._subplots.AxesSubplot at 0x7f0f3538ebe0>"
      ]
     },
     "execution_count": 27,
     "metadata": {},
     "output_type": "execute_result"
    },
    {
     "data": {
      "image/png": "[encoded data removed]",
      "text/plain": [
       "<Figure size 432x288 with 1 Axes>"
      ]
     },
     "metadata": {},
     "output_type": "display_data"
    }
   ],
   "source": [
    "#Visualization on numbers of groups in treated group\n",
    "#sns.countplot(x='treated', data=clean_df, palette='hls')\n",
    "sns.barplot(x='treated', y ='ActividadFisica', data=clean_df, palette='hls')\n",
    "#sns.barplot(x='treated', y ='target', data=clean_df, palette='hls')\n",
    "#sns.barplot(x='M', y ='target1', data=clean_df, palette='hls')\n"
   ]
  },
  {
   "cell_type": "markdown",
   "metadata": {},
   "source": [
    "The group that has been treated have higher physical activities on average. This means we cannot infer the difference in engagement solely to difference in nutritional visits. Patients in the nutrition appointments group have higher engagement than those in the control group. We should find out whether the difference in engagement is attributable to the nutrition visits. "
   ]
  },
  {
   "cell_type": "code",
   "execution_count": 28,
   "metadata": {},
   "outputs": [
    {
     "data": {
      "text/plain": [
       "0    3840\n",
       "1    2983\n",
       "Name: target1, dtype: int64"
      ]
     },
     "execution_count": 28,
     "metadata": {},
     "output_type": "execute_result"
    }
   ],
   "source": [
    "clean_df.target1.value_counts()"
   ]
  },
  {
   "cell_type": "code",
   "execution_count": 29,
   "metadata": {},
   "outputs": [
    {
     "name": "stdout",
     "output_type": "stream",
     "text": [
      "(6823, 11)\n",
      "Index(['IdPaciente', 'Edad', 'IMC', 'Tabaco', 'Refrescos', 'ActividadFisica',\n",
      "       'target', 'target1', 'HBA1C', 'treated', 'M'],\n",
      "      dtype='object')\n",
      "IdPaciente           int64\n",
      "Edad                 int64\n",
      "IMC                float64\n",
      "Tabaco               int64\n",
      "Refrescos            int64\n",
      "ActividadFisica      int64\n",
      "target             float64\n",
      "target1              int64\n",
      "HBA1C              float64\n",
      "treated              int64\n",
      "M                    uint8\n",
      "dtype: object\n"
     ]
    }
   ],
   "source": [
    "print(clean_df.shape)\n",
    "print(clean_df.columns)\n",
    "print(clean_df.dtypes)\n",
    "#clean_df.head()\n"
   ]
  },
  {
   "cell_type": "markdown",
   "metadata": {},
   "source": [
    "The difference between those in treated and control on average looks different, but we don't know if it is due to the treatment or not at this stage. "
   ]
  },
  {
   "cell_type": "code",
   "execution_count": 30,
   "metadata": {},
   "outputs": [
    {
     "name": "stdout",
     "output_type": "stream",
     "text": [
      "treated\n",
      "0    3.777530\n",
      "1    6.371464\n",
      "Name: target, dtype: float64\n",
      "2.5939342188422705\n"
     ]
    }
   ],
   "source": [
    "mean_by_treat=clean_df.groupby('treated')['target'].mean()\n",
    "print(mean_by_treat)\n",
    "print(mean_by_treat[1] -mean_by_treat[0])"
   ]
  },
  {
   "cell_type": "code",
   "execution_count": 31,
   "metadata": {},
   "outputs": [
    {
     "data": {
      "text/plain": [
       "treated\n",
       "0    0.551510\n",
       "1    0.596469\n",
       "Name: M, dtype: float64"
      ]
     },
     "execution_count": 31,
     "metadata": {},
     "output_type": "execute_result"
    }
   ],
   "source": [
    "clean_df.groupby('treated')['M'].mean()"
   ]
  },
  {
   "cell_type": "code",
   "execution_count": 32,
   "metadata": {},
   "outputs": [
    {
     "name": "stdout",
     "output_type": "stream",
     "text": [
      "Vars         Control   Treatment\n",
      "---------------------------------\n",
      "Outcome:       3.78  6.37\n",
      "Age:           52.70  54.53\n",
      "Male:          0.55  0.60\n",
      "Tabaco:        0.15  0.12\n",
      "Refrescos:     0.80  0.77\n",
      "PhysActivity:  0.27  0.29\n",
      "IMC:           29.95  29.73\n",
      "HBA1C:         9.42  9.13\n"
     ]
    }
   ],
   "source": [
    "#Compare the means of covariates\n",
    "list_means=['']\n",
    "list_col =['target', 'Edad', 'M', 'Tabaco', 'Refrescos', 'ActividadFisica', 'IMC', 'HBA1C']\n",
    "for item in list_col:\n",
    "    mean_by_treat=clean_df.groupby('treated')[item].mean()\n",
    "    list_means.append(mean_by_treat)\n",
    "print('Vars', '       ','Control', ' ', 'Treatment')\n",
    "print('---------------------------------')\n",
    "print('Outcome:      ', '{:0.2f} '        ' {:0.2f}'.format(list_means[1][0], list_means[1][1]))\n",
    "print('Age:          ', '{:0.2f} '        ' {:0.2f}'.format(list_means[2][0], list_means[2][1]))\n",
    "print('Male:         ', '{:0.2f} '        ' {:0.2f}'.format(list_means[3][0], list_means[3][1]))\n",
    "print('Tabaco:       ', '{:0.2f} '        ' {:0.2f}'.format(list_means[4][0], list_means[4][1]))\n",
    "print('Refrescos:    ', '{:0.2f} '        ' {:0.2f}'.format(list_means[5][0], list_means[5][1]))\n",
    "print('PhysActivity: ', '{:0.2f} '        ' {:0.2f}'.format(list_means[6][0], list_means[6][1]))\n",
    "print('IMC:          ', '{:0.2f} '      ' {:0.2f}'.format(list_means[7][0], list_means[7][1]))\n",
    "print('HBA1C:        ', '{:0.2f} '        ' {:0.2f}'.format(list_means[8][0], list_means[8][1]))\n"
   ]
  },
  {
   "cell_type": "code",
   "execution_count": 33,
   "metadata": {},
   "outputs": [
    {
     "name": "stdout",
     "output_type": "stream",
     "text": [
      "IdPaciente         int64\n",
      "Edad               int64\n",
      "IMC                int64\n",
      "Tabaco             int64\n",
      "Refrescos          int64\n",
      "ActividadFisica    int64\n",
      "target             int64\n",
      "target1            int64\n",
      "HBA1C              int64\n",
      "treated            int64\n",
      "M                  uint8\n",
      "dtype: object\n"
     ]
    },
    {
     "data": {
      "text/html": [
       "<div>\n",
       "<style scoped>\n",
       "    .dataframe tbody tr th:only-of-type {\n",
       "        vertical-align: middle;\n",
       "    }\n",
       "\n",
       "    .dataframe tbody tr th {\n",
       "        vertical-align: top;\n",
       "    }\n",
       "\n",
       "    .dataframe thead th {\n",
       "        text-align: right;\n",
       "    }\n",
       "</style>\n",
       "<table border=\"1\" class=\"dataframe\">\n",
       "  <thead>\n",
       "    <tr style=\"text-align: right;\">\n",
       "      <th></th>\n",
       "      <th>IdPaciente</th>\n",
       "      <th>Edad</th>\n",
       "      <th>IMC</th>\n",
       "      <th>Tabaco</th>\n",
       "      <th>Refrescos</th>\n",
       "      <th>ActividadFisica</th>\n",
       "      <th>target</th>\n",
       "      <th>target1</th>\n",
       "      <th>HBA1C</th>\n",
       "      <th>treated</th>\n",
       "      <th>M</th>\n",
       "    </tr>\n",
       "  </thead>\n",
       "  <tbody>\n",
       "    <tr>\n",
       "      <th>3</th>\n",
       "      <td>6</td>\n",
       "      <td>57</td>\n",
       "      <td>26</td>\n",
       "      <td>0</td>\n",
       "      <td>1</td>\n",
       "      <td>0</td>\n",
       "      <td>10</td>\n",
       "      <td>1</td>\n",
       "      <td>6</td>\n",
       "      <td>0</td>\n",
       "      <td>0</td>\n",
       "    </tr>\n",
       "    <tr>\n",
       "      <th>8</th>\n",
       "      <td>14</td>\n",
       "      <td>46</td>\n",
       "      <td>36</td>\n",
       "      <td>0</td>\n",
       "      <td>1</td>\n",
       "      <td>0</td>\n",
       "      <td>2</td>\n",
       "      <td>0</td>\n",
       "      <td>12</td>\n",
       "      <td>0</td>\n",
       "      <td>1</td>\n",
       "    </tr>\n",
       "    <tr>\n",
       "      <th>9</th>\n",
       "      <td>15</td>\n",
       "      <td>56</td>\n",
       "      <td>30</td>\n",
       "      <td>0</td>\n",
       "      <td>1</td>\n",
       "      <td>1</td>\n",
       "      <td>10</td>\n",
       "      <td>1</td>\n",
       "      <td>12</td>\n",
       "      <td>0</td>\n",
       "      <td>1</td>\n",
       "    </tr>\n",
       "    <tr>\n",
       "      <th>12</th>\n",
       "      <td>23</td>\n",
       "      <td>62</td>\n",
       "      <td>26</td>\n",
       "      <td>0</td>\n",
       "      <td>1</td>\n",
       "      <td>0</td>\n",
       "      <td>10</td>\n",
       "      <td>1</td>\n",
       "      <td>11</td>\n",
       "      <td>0</td>\n",
       "      <td>1</td>\n",
       "    </tr>\n",
       "    <tr>\n",
       "      <th>14</th>\n",
       "      <td>28</td>\n",
       "      <td>36</td>\n",
       "      <td>28</td>\n",
       "      <td>0</td>\n",
       "      <td>1</td>\n",
       "      <td>1</td>\n",
       "      <td>4</td>\n",
       "      <td>0</td>\n",
       "      <td>11</td>\n",
       "      <td>0</td>\n",
       "      <td>1</td>\n",
       "    </tr>\n",
       "  </tbody>\n",
       "</table>\n",
       "</div>"
      ],
      "text/plain": [
       "    IdPaciente  Edad  IMC  Tabaco  Refrescos  ActividadFisica  target  \\\n",
       "3            6    57   26       0          1                0      10   \n",
       "8           14    46   36       0          1                0       2   \n",
       "9           15    56   30       0          1                1      10   \n",
       "12          23    62   26       0          1                0      10   \n",
       "14          28    36   28       0          1                1       4   \n",
       "\n",
       "    target1  HBA1C  treated  M  \n",
       "3         1      6        0  0  \n",
       "8         0     12        0  1  \n",
       "9         1     12        0  1  \n",
       "12        1     11        0  1  \n",
       "14        0     11        0  1  "
      ]
     },
     "execution_count": 33,
     "metadata": {},
     "output_type": "execute_result"
    }
   ],
   "source": [
    "#clean_df.Edad.astype(float)\n",
    "clean_df['Edad'] = clean_df['Edad'].astype(int)\n",
    "clean_df['IMC'] = clean_df['IMC'].astype(int)\n",
    "clean_df['target'] = clean_df['target'].astype(int)\n",
    "clean_df['HBA1C'] = clean_df['HBA1C'].astype(int)\n",
    "#clean_df['gender'] = clean_df['gender'].astype(float)\n",
    "print(clean_df.dtypes)\n",
    "clean_df.head()"
   ]
  },
  {
   "cell_type": "code",
   "execution_count": 34,
   "metadata": {},
   "outputs": [],
   "source": [
    "#Step 1: Propensity Scoring\n",
    "import numpy as np\n",
    "from sklearn.linear_model import LogisticRegression\n",
    "from sklearn.metrics import roc_auc_score\n",
    "\n",
    "def make_X(df):\n",
    "    X=df.drop(['treated', 'target', 'IdPaciente', 'target1'], axis=1)\n",
    "    X['Edad^2']= X['Edad'] * X['Edad']\n",
    "    X['Edad^3']= X['Edad'] * X['Edad']* X['Edad']\n",
    "    return X\n",
    "\n",
    "X_variables=make_X(clean_df)\n",
    "treat=clean_df['treated']\n",
    "target=clean_df['target']"
   ]
  },
  {
   "cell_type": "code",
   "execution_count": 35,
   "metadata": {},
   "outputs": [
    {
     "name": "stdout",
     "output_type": "stream",
     "text": [
      "    Edad  IMC  Tabaco  Refrescos  ActividadFisica  HBA1C  M  Edad^2  Edad^3\n",
      "3     57   26       0          1                0      6  0    3249  185193\n",
      "8     46   36       0          1                0     12  1    2116   97336\n",
      "9     56   30       0          1                1     12  1    3136  175616\n",
      "12    62   26       0          1                0     11  1    3844  238328\n",
      "14    36   28       0          1                1     11  1    1296   46656\n"
     ]
    }
   ],
   "source": [
    "print(X_variables.head())\n"
   ]
  },
  {
   "cell_type": "code",
   "execution_count": 36,
   "metadata": {},
   "outputs": [
    {
     "data": {
      "text/plain": [
       "LogisticRegression(C=1.0, class_weight=None, dual=False, fit_intercept=True,\n",
       "          intercept_scaling=1, max_iter=100, multi_class='warn',\n",
       "          n_jobs=None, penalty='l2', random_state=None, solver='liblinear',\n",
       "          tol=0.0001, verbose=0, warm_start=False)"
      ]
     },
     "execution_count": 36,
     "metadata": {},
     "output_type": "execute_result"
    }
   ],
   "source": [
    "logistic = LogisticRegression(solver='liblinear')\n",
    "logistic.fit(X_variables, treat)"
   ]
  },
  {
   "cell_type": "code",
   "execution_count": 37,
   "metadata": {},
   "outputs": [
    {
     "data": {
      "text/plain": [
       "array([0.48326213, 0.40496759, 0.45400682, ..., 0.44771469, 0.43651764,\n",
       "       0.39559783])"
      ]
     },
     "execution_count": 37,
     "metadata": {},
     "output_type": "execute_result"
    }
   ],
   "source": [
    "pscore = logistic.predict_proba(X_variables)[:, 1]\n",
    "pscore"
   ]
  },
  {
   "cell_type": "code",
   "execution_count": 38,
   "metadata": {},
   "outputs": [
    {
     "data": {
      "text/plain": [
       "0.5564788553143521"
      ]
     },
     "execution_count": 38,
     "metadata": {},
     "output_type": "execute_result"
    }
   ],
   "source": [
    "roc_auc_score(treat, pscore)"
   ]
  },
  {
   "cell_type": "code",
   "execution_count": 39,
   "metadata": {},
   "outputs": [
    {
     "name": "stdout",
     "output_type": "stream",
     "text": [
      "treatment count: (3115,)\n",
      "control count: (3708,)\n"
     ]
    }
   ],
   "source": [
    "mask = treat == 1\n",
    "pos_pscore = pscore[mask]\n",
    "neg_pscore = pscore[~mask]\n",
    "print('treatment count:', pos_pscore.shape)\n",
    "print('control count:', neg_pscore.shape)"
   ]
  },
  {
   "cell_type": "code",
   "execution_count": 40,
   "metadata": {},
   "outputs": [
    {
     "name": "stderr",
     "output_type": "stream",
     "text": [
      "/home/ec2-user/anaconda3/envs/python3/lib/python3.6/site-packages/matplotlib/axes/_axes.py:6521: MatplotlibDeprecationWarning: \n",
      "The 'normed' kwarg was deprecated in Matplotlib 2.1 and will be removed in 3.1. Use 'density' instead.\n",
      "  alternative=\"'density'\", removal=\"3.1\")\n",
      "/home/ec2-user/anaconda3/envs/python3/lib/python3.6/site-packages/matplotlib/axes/_axes.py:6521: MatplotlibDeprecationWarning: \n",
      "The 'normed' kwarg was deprecated in Matplotlib 2.1 and will be removed in 3.1. Use 'density' instead.\n",
      "  alternative=\"'density'\", removal=\"3.1\")\n"
     ]
    },
    {
     "data": {
      "image/png": "[encoded data removed]",
      "text/plain": [
       "<Figure size 576x432 with 1 Axes>"
      ]
     },
     "metadata": {},
     "output_type": "display_data"
    }
   ],
   "source": [
    "# change default style figure and font size\n",
    "plt.rcParams['figure.figsize'] = 8, 6\n",
    "plt.rcParams['font.size'] = 12\n",
    "\n",
    "sns.distplot(neg_pscore, label='control')\n",
    "sns.distplot(pos_pscore, label='treatment')\n",
    "plt.xlim(0, 1)\n",
    "plt.title('Propensity Score Distribution of Control vs Treatment')\n",
    "plt.ylabel('Density')\n",
    "plt.xlabel('Scores')\n",
    "plt.legend()\n",
    "plt.tight_layout()\n",
    "plt.show()"
   ]
  },
  {
   "cell_type": "code",
   "execution_count": 41,
   "metadata": {},
   "outputs": [
    {
     "data": {
      "text/plain": [
       "array([0.46392611, 0.45932177, 0.50799246, ..., 0.45572277, 0.48328074,\n",
       "       0.41291424])"
      ]
     },
     "execution_count": 41,
     "metadata": {},
     "output_type": "execute_result"
    }
   ],
   "source": [
    "pos_pscore"
   ]
  },
  {
   "cell_type": "code",
   "execution_count": 42,
   "metadata": {},
   "outputs": [
    {
     "data": {
      "text/plain": [
       "array([[3043],\n",
       "       [1663],\n",
       "       [ 373],\n",
       "       ...,\n",
       "       [ 294],\n",
       "       [3443],\n",
       "       [3316]])"
      ]
     },
     "execution_count": 42,
     "metadata": {},
     "output_type": "execute_result"
    }
   ],
   "source": [
    "def get_similar(pos_pscore: np.ndarray, neg_pscore: np.ndarray, topn: int=5, n_jobs: int=1):\n",
    "    from sklearn.neighbors import NearestNeighbors\n",
    "\n",
    "    knn = NearestNeighbors(n_neighbors=topn + 1, metric='euclidean', n_jobs=n_jobs)\n",
    "    knn.fit(neg_pscore.reshape(-1, 1))\n",
    "\n",
    "    distances, indices = knn.kneighbors(pos_pscore.reshape(-1, 1))\n",
    "    sim_distances = distances[:, 1:]\n",
    "    sim_indices = indices[:, 1:]\n",
    "    return sim_distances, sim_indices\n",
    "\n",
    "\n",
    "sim_distances, sim_indices = get_similar(pos_pscore, neg_pscore, topn=1)\n",
    "sim_indices"
   ]
  },
  {
   "cell_type": "code",
   "execution_count": 43,
   "metadata": {},
   "outputs": [
    {
     "data": {
      "text/plain": [
       "array([   0, 1015,  461,  199,   73,   39,    8,    3,    2,    1])"
      ]
     },
     "execution_count": 43,
     "metadata": {},
     "output_type": "execute_result"
    }
   ],
   "source": [
    "_, counts = np.unique(sim_indices[:, 0], return_counts=True)\n",
    "np.bincount(counts)"
   ]
  },
  {
   "cell_type": "code",
   "execution_count": 44,
   "metadata": {},
   "outputs": [],
   "source": [
    "df=clean_df\n",
    "df['TREATMENT'] = treat\n",
    "df['TARGET'] = target\n",
    "df_pos = df[mask]\n",
    "df_neg = df[~mask].iloc[sim_indices[:, 0]]\n",
    "df_matched = pd.concat([df_pos, df_neg], axis=0)"
   ]
  },
  {
   "cell_type": "code",
   "execution_count": 45,
   "metadata": {},
   "outputs": [
    {
     "name": "stdout",
     "output_type": "stream",
     "text": [
      "(6823, 13)\n",
      "(6230, 13)\n"
     ]
    }
   ],
   "source": [
    "print(clean_df.shape)\n",
    "print(df_matched.shape)"
   ]
  },
  {
   "cell_type": "markdown",
   "metadata": {},
   "source": [
    "Upon completing propensity score matching, we can carry out a outcome analysis using a paired t-test. The test result shows that the difference between the two groups are statistically significant, with large t value and small p value. Since the p-value is smaller than the threshold of 1%, we can reject the null hypothesis that the two groups have equal averages. "
   ]
  },
  {
   "cell_type": "code",
   "execution_count": 48,
   "metadata": {},
   "outputs": [
    {
     "name": "stdout",
     "output_type": "stream",
     "text": [
      "The number of matched pairs:  3115\n",
      "T-statistic:  30.5017\n",
      "2-tailed p-value:  0.0000\n"
     ]
    }
   ],
   "source": [
    "#Having matched the pairs, let us do t-test on the two samples \n",
    "num_matched_pairs = df_neg.shape[0]\n",
    "print('The number of matched pairs: ', num_matched_pairs)\n",
    "\n",
    "# pair t-test\n",
    "tstat, pvalue=stats.ttest_rel(df_pos['TARGET'].values, df_neg['TARGET'].values)\n",
    "print('T-statistic: ','{:0.4f}'.format(tstat))\n",
    "print('2-tailed p-value: ','{:0.4f}'.format(pvalue))"
   ]
  },
  {
   "cell_type": "markdown",
   "metadata": {},
   "source": [
    "###References consulted: \n",
    "\n",
    "For matching: \n",
    "On github\n",
    "http://ethen8181.github.io/machine-learning/ab_tests/causal_inference/matching.html\n",
    "\n",
    "Youtube\n",
    "Workers earnings evaluation\n",
    "https://www.youtube.com/watch?v=h9mD43crH0I\n",
    "\n",
    "https://medium.com/@bmiroglio/introducing-the-pymatch-package-6a8c020e2009\n"
   ]
  }
 ],
 "metadata": {
  "kernelspec": {
   "display_name": "Python 3",
   "language": "python",
   "name": "python3"
  },
  "language_info": {
   "codemirror_mode": {
    "name": "ipython",
    "version": 3
   },
   "file_extension": ".py",
   "mimetype": "text/x-python",
   "name": "python",
   "nbconvert_exporter": "python",
   "pygments_lexer": "ipython3",
   "version": "3.7.3"
  }
 },
 "nbformat": 4,
 "nbformat_minor": 4
}
